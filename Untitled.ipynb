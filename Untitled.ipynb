{
 "cells": [
  {
   "cell_type": "code",
   "execution_count": 1,
   "id": "c012d203",
   "metadata": {},
   "outputs": [],
   "source": [
    "from matplotlib import pyplot as plt\n",
    "import utils\n",
    "\n"
   ]
  },
  {
   "cell_type": "code",
   "execution_count": 34,
   "id": "7c85838a",
   "metadata": {},
   "outputs": [],
   "source": [
    "def plot_cluster(dados, cluster):\n",
    "    dados = utils.readTableTxt(open(\"./datasets/c2ds1-2sp.txt\"))\n",
    "    cluster = utils.readTableTxt(open(\"./datasets/c2ds1-2spReal.clu\"))\n",
    "    x = []\n",
    "    y = []\n",
    "    i = cluster[0][1]\n",
    "\n",
    "    for d in cluster:\n",
    "        if(i != d[1]):\n",
    "            plt.scatter(x,y)\n",
    "            print(d[1])\n",
    "            x=[]\n",
    "            y=[]\n",
    "            i=d[1]\n",
    "\n",
    "        for j in dados:\n",
    "            if(j[0] == d[0]):\n",
    "                cord = [j[1],j[2]]\n",
    "        x.append(cord[0])\n",
    "        y.append(cord[1])\n",
    "\n",
    "    plt.scatter(x,y)\n",
    "    plt.show()\n"
   ]
  },
  {
   "cell_type": "code",
   "execution_count": null,
   "id": "ccbdf57c",
   "metadata": {},
   "outputs": [],
   "source": []
  },
  {
   "cell_type": "code",
   "execution_count": null,
   "id": "ec0d975d",
   "metadata": {},
   "outputs": [],
   "source": []
  },
  {
   "cell_type": "code",
   "execution_count": null,
   "id": "5d51fe97",
   "metadata": {},
   "outputs": [],
   "source": []
  }
 ],
 "metadata": {
  "kernelspec": {
   "display_name": "Python 3 (ipykernel)",
   "language": "python",
   "name": "python3"
  },
  "language_info": {
   "codemirror_mode": {
    "name": "ipython",
    "version": 3
   },
   "file_extension": ".py",
   "mimetype": "text/x-python",
   "name": "python",
   "nbconvert_exporter": "python",
   "pygments_lexer": "ipython3",
   "version": "3.9.12"
  }
 },
 "nbformat": 4,
 "nbformat_minor": 5
}
